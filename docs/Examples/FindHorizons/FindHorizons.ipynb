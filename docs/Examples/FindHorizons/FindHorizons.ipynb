{
 "cells": [
  {
   "cell_type": "markdown",
   "metadata": {},
   "source": [
    "# Finding apparent horizons in volume data {#examples_find_horizons}\n",
    "\n",
    "In this example we will generate some numeric volume data representing a Kerr\n",
    "black hole and then find its apparent horizon."
   ]
  },
  {
   "cell_type": "code",
   "execution_count": null,
   "metadata": {},
   "outputs": [],
   "source": [
    "# Distributed under the MIT License.\n",
    "# See LICENSE.txt for details.\n",
    "\n",
    "# Dependencies:\n",
    "%pip install numpy matplotlib pandas 'h5py>=3.0.0' ruamel.yaml"
   ]
  },
  {
   "cell_type": "code",
   "execution_count": 2,
   "metadata": {},
   "outputs": [],
   "source": [
    "import h5py\n",
    "import matplotlib.pyplot as plt\n",
    "import os\n",
    "import pandas as pd\n",
    "from copy import deepcopy\n",
    "from ruamel.yaml import YAML"
   ]
  },
  {
   "cell_type": "code",
   "execution_count": 3,
   "metadata": {},
   "outputs": [],
   "source": [
    "%%bash\n",
    "# Clean up output files from previous runs\n",
    "rm -f Kerr*.h5\n",
    "rm -f FindHorizons*.h5"
   ]
  },
  {
   "cell_type": "markdown",
   "metadata": {},
   "source": [
    "First, make sure you have compiled the `SolveXcts` and `FindHorizons3D`\n",
    "executables in `Release` mode. Put the path to your build directory below."
   ]
  },
  {
   "cell_type": "code",
   "execution_count": 4,
   "metadata": {},
   "outputs": [],
   "source": [
    "SPECTRE_BUILD_DIR = \"/Users/nlf/Work/spectre/build-Default-Release\"\n",
    "SPECTRE_HOME = \"/Users/nlf/Projects/spectre/develop\""
   ]
  },
  {
   "cell_type": "markdown",
   "metadata": {},
   "source": [
    "## Generate Kerr volume data\n",
    "\n",
    "We run the `SolveXcts` executable to generate Kerr volume data. We could also\n",
    "just invoke the Kerr analytic solution and write the data to disk, but the\n",
    "`SolveXcts` executable already writes volume data in the correct format."
   ]
  },
  {
   "cell_type": "code",
   "execution_count": 5,
   "metadata": {},
   "outputs": [],
   "source": [
    "# Load example input file\n",
    "kerrschild_input_file_path = os.path.join(\n",
    "    SPECTRE_HOME, 'tests/InputFiles/Xcts/KerrSchild.yaml')\n",
    "yaml = YAML()\n",
    "with open(kerrschild_input_file_path, 'r') as open_input_file:\n",
    "    kerr_input_file = yaml.load(open_input_file)\n",
    "\n",
    "# Modify Kerr-Schild example input file\n",
    "# - Set some interesting Kerr parameters\n",
    "kerr_input_file['Background']['KerrSchild'] = dict(Mass=1.,\n",
    "                                                   Spin=[0., 0., 0.9],\n",
    "                                                   Center=[0., 0., 0.])\n",
    "# - Set the initial guess to the solution to converge quickly\n",
    "kerr_input_file['InitialGuess'] = kerr_input_file['Background']\n",
    "# - Choose domain parameters\n",
    "domain_params = kerr_input_file['DomainCreator']['Shell']\n",
    "domain_params['InnerRadius'] = 1.\n",
    "domain_params['InitialRefinement'] = 0\n",
    "domain_params['InitialGridPoints'] = [8, 8]\n",
    "# - Allow the elliptic solver to converge\n",
    "kerr_input_file['NonlinearSolver']['NewtonRaphson']['ConvergenceCriteria'][\n",
    "    'MaxIterations'] = 10\n",
    "# - Set output file names\n",
    "kerr_input_file['Observers']['VolumeFileName'] = 'KerrVolume'\n",
    "kerr_input_file['Observers']['ReductionFileName'] = 'KerrReductions'\n",
    "\n",
    "# Write modified input file\n",
    "with open('Kerr.yaml', 'w') as open_input_file:\n",
    "    yaml.dump(kerr_input_file, open_input_file)"
   ]
  },
  {
   "cell_type": "code",
   "execution_count": 6,
   "metadata": {},
   "outputs": [
    {
     "name": "stdout",
     "output_type": "stream",
     "text": [
      "Charm++: standalone mode (not using charmrun)\n",
      "Charm++> Running in Multicore mode: 12 threads (PEs)\n",
      "Converse/Charm++ Commit ID: v6.10.2-0-g7bf00fa\n",
      "Warning> Randomization of virtual memory (ASLR) is turned on in the kernel, thread migration may not work! Run 'echo 0 > /proc/sys/kernel/randomize_va_space' as root to disable it, or try running with '+isomalloc_sync'.\n",
      "CharmLB> Load balancer assumes all CPUs are same.\n",
      "HWLOC> [0] Thread 0x7fa168aba180 bound to cpuset: 0x00000001\n",
      "HWLOC> [10] Thread 0x7fa148a87700 bound to cpuset: 0x00000400\n",
      "HWLOC> [1] Thread 0x7fa14d290700 bound to cpuset: 0x00000002\n",
      "HWLOC> [5] Thread 0x7fa14b28c700 bound to cpuset: 0x00000020\n",
      "HWLOC> [8] Thread 0x7fa149a89700 bound to cpuset: 0x00000100\n",
      "HWLOC> [2] Thread 0x7fa14ca8f700 bound to cpuset: 0x00000004\n",
      "HWLOC> [11] Thread 0x7fa148286700 bound to cpuset: 0x00000800\n",
      "HWLOC> [3] Thread 0x7fa14c28e700 bound to cpuset: 0x00000008\n",
      "HWLOC> [6] Thread 0x7fa14aa8b700 bound to cpuset: 0x00000040\n",
      "HWLOC> [4] Thread 0x7fa14ba8d700 bound to cpuset: 0x00000010\n",
      "HWLOC> [9] Thread 0x7fa149288700 bound to cpuset: 0x00000200\n",
      "HWLOC> [7] Thread 0x7fa14a28a700 bound to cpuset: 0x00000080\n",
      "Charm++> Running on 1 hosts (12 sockets x 1 cores x 1 PUs = 12-way SMP)\n",
      "Charm++> cpu topology info is gathered in 0.003 seconds.\n",
      "\n",
      "Executing '/Users/nlf/Work/spectre/build-Default-Release/bin/SolveXcts' using 12 processors.\n",
      "Charm++ startup time in seconds: 5.040069\n",
      "Date and time at startup: Tue Mar  1 13:38:03 2022\n",
      "\n",
      "SpECTRE Build Information:\n",
      "Version:                      2022.02.17\n",
      "Compiled on host:             2a7fcfdc5d9f\n",
      "Compiled in directory:        /Users/nlf/Work/spectre/build-Default-Release\n",
      "Source directory is:          /Users/nlf/Projects/spectre/develop\n",
      "Compiled on git branch:       find_horizons_exec\n",
      "Compiled on git revision:     a702fcd88e2\n",
      "Linked on:                    Wed Feb 23 22:29:46 2022\n",
      "\n",
      "The following options differ from their suggested values:\n",
      "\n",
      "Option parsing completed.\n",
      "Multigrid level 0 has 6 elements in 6 blocks distributed on 12 procs.\n",
      "NewtonRaphson initialized with residual: 2.692374e+00\n",
      "Gmres initialized with residual: 2.692374e+00\n",
      "Gmres(1) iteration complete. Remaining residual: 1.585652e-02\n",
      "Gmres(2) iteration complete. Remaining residual: 3.250109e-03\n",
      "Gmres(3) iteration complete. Remaining residual: 6.606992e-04\n",
      "Gmres(4) iteration complete. Remaining residual: 1.151248e-04\n",
      "Gmres has converged in 4 iterations: RelativeResidual - The residual magnitude has decreased to a fraction of 0.0001 of its initial value or below (4.27596e-05).\n",
      "NewtonRaphson(1) iteration complete (0 globalization steps, step length 1). Remaining residual: 1.430971e-01\n",
      "Gmres initialized with residual: 1.430971e-01\n",
      "Gmres(1) iteration complete. Remaining residual: 2.573815e-03\n",
      "Gmres(2) iteration complete. Remaining residual: 5.880012e-04\n",
      "Gmres(3) iteration complete. Remaining residual: 1.058190e-04\n",
      "Gmres(4) iteration complete. Remaining residual: 2.932433e-05\n",
      "Gmres(5) iteration complete. Remaining residual: 4.199566e-06\n",
      "Gmres has converged in 5 iterations: RelativeResidual - The residual magnitude has decreased to a fraction of 0.0001 of its initial value or below (2.93477e-05).\n",
      "NewtonRaphson(2) iteration complete (0 globalization steps, step length 1). Remaining residual: 1.914763e-05\n",
      "Gmres initialized with residual: 1.914763e-05\n",
      "Gmres(1) iteration complete. Remaining residual: 2.927570e-06\n",
      "Gmres(2) iteration complete. Remaining residual: 7.516803e-07\n",
      "Gmres(3) iteration complete. Remaining residual: 1.695121e-07\n",
      "Gmres(4) iteration complete. Remaining residual: 3.852025e-08\n",
      "Gmres(5) iteration complete. Remaining residual: 6.239554e-09\n",
      "Gmres(6) iteration complete. Remaining residual: 3.306899e-10\n",
      "Gmres has converged in 6 iterations: RelativeResidual - The residual magnitude has decreased to a fraction of 0.0001 of its initial value or below (1.72705e-05).\n",
      "NewtonRaphson(3) iteration complete (0 globalization steps, step length 1). Remaining residual: 3.352486e-10\n",
      "Gmres initialized with residual: 3.352486e-10\n",
      "Gmres(1) iteration complete. Remaining residual: 2.969095e-11\n",
      "Gmres(2) iteration complete. Remaining residual: 8.169831e-12\n",
      "Gmres(3) iteration complete. Remaining residual: 1.702308e-12\n",
      "Gmres(4) iteration complete. Remaining residual: 4.723995e-13\n",
      "Gmres has converged in 4 iterations: AbsoluteResidual - The residual magnitude has decreased to 1e-12 or below (4.72399e-13).\n",
      "NewtonRaphson(4) iteration complete (0 globalization steps, step length 1). Remaining residual: 4.951316e-13\n",
      "NewtonRaphson has converged in 4 iterations: AbsoluteResidual - The residual magnitude has decreased to 1e-10 or below (4.95132e-13).\n",
      "\n",
      "Done!\n",
      "Wall time in seconds: 25.543363\n",
      "Date and time at completion: Tue Mar  1 13:38:24 2022\n",
      "\n",
      "[Partition 0][Node 0] End of program\n"
     ]
    }
   ],
   "source": [
    "SOLVE_XCTS = os.path.join(SPECTRE_BUILD_DIR, 'bin/SolveXcts')\n",
    "!{SOLVE_XCTS} --input-file Kerr.yaml +auto-provision"
   ]
  },
  {
   "cell_type": "markdown",
   "metadata": {},
   "source": [
    "## Find horizons in the volume data\n",
    "\n",
    "We run the `FindHorizons3D` executable over the generated volume data:"
   ]
  },
  {
   "cell_type": "code",
   "execution_count": 7,
   "metadata": {},
   "outputs": [],
   "source": [
    "# Load example input file\n",
    "horizons_input_file_path = os.path.join(\n",
    "    SPECTRE_HOME, 'tests/InputFiles/FindHorizons/FindHorizons3D.yaml')\n",
    "with open(horizons_input_file_path, 'r') as open_input_file:\n",
    "    horizons_input_file = yaml.load(open_input_file)\n",
    "\n",
    "# Modify Kerr-Schild example input file\n",
    "# - Select the same domain that we solved above\n",
    "horizons_input_file['DomainCreator'] = deepcopy(kerr_input_file['DomainCreator'])\n",
    "del horizons_input_file['DomainCreator']['Shell']['BoundaryConditions']\n",
    "# - Set importer file names\n",
    "importer_params = horizons_input_file['Importers']['VolumeData']\n",
    "importer_params['FileGlob'] = 'KerrVolume*.h5'\n",
    "importer_params['ObservationValue'] = 'Last'\n",
    "# - AH finder parameters\n",
    "ah_params = horizons_input_file['ApparentHorizons']['AhA']\n",
    "ah_params['InitialGuess']['Radius'] = 2.\n",
    "# - Set output file names\n",
    "horizons_input_file['Observers']['VolumeFileName'] = 'FindHorizonsVolume'\n",
    "horizons_input_file['Observers']['ReductionFileName'] = 'FindHorizonsReductions'\n",
    "\n",
    "# Write modified input file\n",
    "with open('FindHorizons.yaml', 'w') as open_input_file:\n",
    "    yaml.dump(horizons_input_file, open_input_file)"
   ]
  },
  {
   "cell_type": "code",
   "execution_count": 8,
   "metadata": {},
   "outputs": [
    {
     "name": "stdout",
     "output_type": "stream",
     "text": [
      "Charm++: standalone mode (not using charmrun)\n",
      "Charm++> Running in Multicore mode: 12 threads (PEs)\n",
      "Converse/Charm++ Commit ID: v6.10.2-0-g7bf00fa\n",
      "Warning> Randomization of virtual memory (ASLR) is turned on in the kernel, thread migration may not work! Run 'echo 0 > /proc/sys/kernel/randomize_va_space' as root to disable it, or try running with '+isomalloc_sync'.\n",
      "CharmLB> Load balancer assumes all CPUs are same.\n",
      "HWLOC> [0] Thread 0x7eff0efdb180 bound to cpuset: 0x00000001\n",
      "HWLOC> [2] Thread 0x7efef2fb0700 bound to cpuset: 0x00000004\n",
      "HWLOC> [1] Thread 0x7efef37b1700 bound to cpuset: 0x00000002\n",
      "HWLOC> [8] Thread 0x7efeeffaa700 bound to cpuset: 0x00000100\n",
      "HWLOC> [9] Thread 0x7efeef7a9700 bound to cpuset: 0x00000200\n",
      "HWLOC> [6] Thread 0x7efef0fac700 bound to cpuset: 0x00000040\n",
      "HWLOC> [7] Thread 0x7efef07ab700 bound to cpuset: 0x00000080\n",
      "HWLOC> [4] Thread 0x7efef1fae700 bound to cpuset: 0x00000010\n",
      "HWLOC> [10] Thread 0x7efeeefa8700 bound to cpuset: 0x00000400\n",
      "HWLOC> [5] Thread 0x7efef17ad700 bound to cpuset: 0x00000020\n",
      "HWLOC> [3] Thread 0x7efef27af700 bound to cpuset: 0x00000008\n",
      "HWLOC> [11] Thread 0x7efeee7a7700 bound to cpuset: 0x00000800\n",
      "Charm++> Running on 1 hosts (12 sockets x 1 cores x 1 PUs = 12-way SMP)\n",
      "Charm++> cpu topology info is gathered in 0.009 seconds.\n",
      "\n",
      "Executing '/Users/nlf/Work/spectre/build-Default-Release/bin/FindHorizons3D' using 12 processors.\n",
      "Charm++ startup time in seconds: 0.097010\n",
      "Date and time at startup: Tue Mar  1 13:38:25 2022\n",
      "\n",
      "SpECTRE Build Information:\n",
      "Version:                      2022.02.17\n",
      "Compiled on host:             2a7fcfdc5d9f\n",
      "Compiled in directory:        /Users/nlf/Work/spectre/build-Default-Release\n",
      "Source directory is:          /Users/nlf/Projects/spectre/develop\n",
      "Compiled on git branch:       find_horizons_exec\n",
      "Compiled on git revision:     a702fcd88e2\n",
      "Linked on:                    Wed Feb 23 22:29:46 2022\n",
      "\n",
      "The following options differ from their suggested values:\n",
      "\n",
      "Option parsing completed.\n",
      "AhA: t=0: its=0: -5.2e-01<R<1e+00, |R|=0.5, |R_grid|=0.5, 2<r<2\n",
      "AhA: t=0: its=1: -2.8e-03<R<4e-01, |R|=0.2, |R_grid|=0.2, 1.757<r<1.93\n",
      "AhA: t=0: its=2: -1.2e-02<R<2e-01, |R|=0.1, |R_grid|=0.1, 1.653<r<1.86\n",
      "AhA: t=0: its=3: -1.6e-02<R<2e-01, |R|=0.07, |R_grid|=0.08, 1.591<r<1.813\n",
      "AhA: t=0: its=4: -2.0e-02<R<1e-01, |R|=0.05, |R_grid|=0.06, 1.55<r<1.78\n",
      "AhA: t=0: its=5: -2.3e-02<R<1e-01, |R|=0.04, |R_grid|=0.05, 1.521<r<1.758\n",
      "AhA: t=0: its=6: -4.1e-02<R<8e-02, |R|=0.03, |R_grid|=0.04, 1.501<r<1.742\n",
      "AhA: t=0: its=7: -5.7e-02<R<7e-02, |R|=0.02, |R_grid|=0.03, 1.486<r<1.73\n",
      "AhA: t=0: its=8: -6.8e-02<R<7e-02, |R|=0.01, |R_grid|=0.03, 1.475<r<1.721\n",
      "AhA: t=0: its=9: -7.7e-02<R<6e-02, |R|=0.01, |R_grid|=0.03, 1.467<r<1.715\n",
      "AhA: t=0: its=10: -8.3e-02<R<6e-02, |R|=0.008, |R_grid|=0.03, 1.461<r<1.71\n",
      "AhA: t=0: its=11: -8.7e-02<R<6e-02, |R|=0.006, |R_grid|=0.03, 1.456<r<1.707\n",
      "AhA: t=0: its=12: -9.1e-02<R<5e-02, |R|=0.005, |R_grid|=0.02, 1.453<r<1.704\n",
      "AhA: t=0: its=13: -9.4e-02<R<5e-02, |R|=0.004, |R_grid|=0.02, 1.45<r<1.702\n",
      "AhA: t=0: its=14: -9.6e-02<R<5e-02, |R|=0.003, |R_grid|=0.02, 1.448<r<1.701\n",
      "AhA: t=0: its=15: -9.7e-02<R<5e-02, |R|=0.002, |R_grid|=0.02, 1.447<r<1.699\n",
      "AhA: t=0: its=16: -9.8e-02<R<5e-02, |R|=0.002, |R_grid|=0.02, 1.446<r<1.699\n",
      "AhA: t=0: its=17: -9.9e-02<R<5e-02, |R|=0.001, |R_grid|=0.02, 1.445<r<1.698\n",
      "AhA: t=0: its=18: -1.0e-01<R<5e-02, |R|=0.0009, |R_grid|=0.02, 1.444<r<1.697\n",
      "AhA: t=0: its=19: -1.0e-01<R<5e-02, |R|=0.0007, |R_grid|=0.02, 1.444<r<1.697\n",
      "AhA: t=0: its=20: -1.0e-01<R<5e-02, |R|=0.0005, |R_grid|=0.02, 1.443<r<1.697\n",
      "AhA: t=0: its=21: -1.0e-01<R<5e-02, |R|=0.0004, |R_grid|=0.02, 1.443<r<1.697\n",
      "AhA: t=0: its=22: -1.0e-01<R<5e-02, |R|=0.0003, |R_grid|=0.02, 1.443<r<1.696\n",
      "AhA: t=0: its=23: -1.0e-01<R<5e-02, |R|=0.0002, |R_grid|=0.02, 1.443<r<1.696\n",
      "\n",
      "Done!\n",
      "Wall time in seconds: 5.510678\n",
      "Date and time at completion: Tue Mar  1 13:38:31 2022\n",
      "\n",
      "[Partition 0][Node 0] End of program\n"
     ]
    }
   ],
   "source": [
    "FIND_HORIZONS = os.path.join(SPECTRE_BUILD_DIR, 'bin/FindHorizons3D')\n",
    "!{FIND_HORIZONS} --input-file FindHorizons.yaml +auto-provision"
   ]
  },
  {
   "cell_type": "markdown",
   "metadata": {},
   "source": [
    "## Horizon quantities\n",
    "\n",
    "The horizon finder measures a few surface quantities:"
   ]
  },
  {
   "cell_type": "code",
   "execution_count": 9,
   "metadata": {},
   "outputs": [],
   "source": [
    "# These routines read the data and process them a bit. You can skip them to see\n",
    "# the results below.\n",
    "\n",
    "\n",
    "def load_dataset(subfile):\n",
    "    legend = subfile.attrs['Legend']\n",
    "    return pd.DataFrame(data=subfile, columns=legend).set_index(legend[0])"
   ]
  },
  {
   "cell_type": "code",
   "execution_count": 10,
   "metadata": {},
   "outputs": [],
   "source": [
    "with h5py.File('FindHorizonsReductions.h5', 'r') as open_h5_file:\n",
    "    ah = load_dataset(open_h5_file['AhA.dat'])"
   ]
  },
  {
   "cell_type": "code",
   "execution_count": 11,
   "metadata": {},
   "outputs": [
    {
     "name": "stdout",
     "output_type": "stream",
     "text": [
      "          Area  IrreducibleMass  MaxRicciScalar  MinRicciScalar  ChristodoulouMass  DimensionlessSpinMagnitude\n",
      "Time                                                                                                          \n",
      "0.0   36.03551         0.846702        1.734013       -0.082303            0.96325                     0.83824\n"
     ]
    }
   ],
   "source": [
    "print(ah.to_string())"
   ]
  },
  {
   "cell_type": "code",
   "execution_count": null,
   "metadata": {},
   "outputs": [],
   "source": []
  }
 ],
 "metadata": {
  "interpreter": {
   "hash": "5c837ee96a6a314af6ca82ef816f2b1d9c1a2b96687b8bdeaa8036bfb18cb0dc"
  },
  "kernelspec": {
   "display_name": "Python 3.9.10 ('spectre')",
   "language": "python",
   "name": "python3"
  },
  "language_info": {
   "codemirror_mode": {
    "name": "ipython",
    "version": 3
   },
   "file_extension": ".py",
   "mimetype": "text/x-python",
   "name": "python",
   "nbconvert_exporter": "python",
   "pygments_lexer": "ipython3",
   "version": "3.8.10"
  },
  "orig_nbformat": 4
 },
 "nbformat": 4,
 "nbformat_minor": 2
}
