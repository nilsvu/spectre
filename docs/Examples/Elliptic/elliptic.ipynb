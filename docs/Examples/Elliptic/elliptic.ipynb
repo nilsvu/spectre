{
 "cells": [
  {
   "cell_type": "code",
   "execution_count": 118,
   "metadata": {},
   "outputs": [],
   "source": [
    "import os\n",
    "import h5py\n",
    "import pandas as pd\n",
    "import matplotlib.pyplot as plt\n",
    "import numpy as np\n",
    "from ruamel.yaml import YAML"
   ]
  },
  {
   "cell_type": "code",
   "execution_count": 121,
   "metadata": {},
   "outputs": [],
   "source": [
    "%%bash\n",
    "# Clean up output files from previous runs\n",
    "rm -f Bbh*.h5"
   ]
  },
  {
   "cell_type": "markdown",
   "metadata": {},
   "source": [
    "# Binary black hole initial data\n",
    "\n",
    "In this example we run the elliptic solver to compute initial data for binary\n",
    "black holes."
   ]
  },
  {
   "cell_type": "markdown",
   "metadata": {},
   "source": [
    "First, compile the `SolveXcts` executable and put in the path to your build\n",
    "directory below. Make sure you compile in `Release` mode."
   ]
  },
  {
   "cell_type": "code",
   "execution_count": null,
   "metadata": {},
   "outputs": [],
   "source": [
    "SPECTRE_BUILD_DIR = \"/Users/nlf/Work/spectre/build-Default-Debug\"\n",
    "SPECTRE_HOME = os.path.abspath(\"../../../\")"
   ]
  },
  {
   "cell_type": "markdown",
   "metadata": {},
   "source": [
    "\n",
    "## Setup input file\n",
    "\n",
    "We set up an input file based on the\n",
    "`tests/InputFiles/Xcts/BinaryBlackHole.yaml` example:"
   ]
  },
  {
   "cell_type": "code",
   "execution_count": 123,
   "metadata": {},
   "outputs": [],
   "source": [
    "# Load example input file\n",
    "load_input_file_path = os.path.join(\n",
    "    SPECTRE_HOME, 'tests/InputFiles/Xcts/BinaryBlackHole.yaml')\n",
    "yaml = YAML()\n",
    "with open(load_input_file_path, 'r') as open_input_file:\n",
    "    input_file = yaml.load(open_input_file)\n",
    "# Set output file names\n",
    "input_file['Observers']['VolumeFileName'] = 'BbhVolume'\n",
    "input_file['Observers']['ReductionFileName'] = 'BbhReductions'\n",
    "# Write modified input file\n",
    "with open('Bbh.yaml', 'w') as open_input_file:\n",
    "    yaml.dump(input_file, open_input_file)"
   ]
  },
  {
   "cell_type": "markdown",
   "metadata": {},
   "source": [
    "## Run executable\n",
    "\n",
    "We pass the input file to the `SolveXcts` executable to solve the elliptic\n",
    "problem. It can take a few minutes to complete. Feel free to turn up the number\n",
    "of cores."
   ]
  },
  {
   "cell_type": "code",
   "execution_count": 128,
   "metadata": {},
   "outputs": [
    {
     "name": "stdout",
     "output_type": "stream",
     "text": [
      "Charm++: standalone mode (not using charmrun)\n",
      "Charm++> Running in Multicore mode: 1 threads (PEs)\n",
      "Converse/Charm++ Commit ID: v7.0.0-rc1\n",
      "Charm++ built without optimization.\n",
      "Do not use for performance benchmarking (build with --with-production to do so).\n",
      "Charm++ built with internal error checking enabled.\n",
      "Do not use for performance benchmarking (build without --enable-error-checking to do so).\n",
      "CharmLB> Load balancer assumes all CPUs are same.\n",
      "Charm++> Running on 1 hosts (1 sockets x 6 cores x 2 PUs = 12-way SMP)\n",
      "Charm++> cpu topology info is gathered in 0.000 seconds.\n",
      "\n",
      "Executing '/Users/nlf/Work/spectre/build-Default-Debug/bin/SolveXcts' using 1 processors.\n",
      "Charm++ startup time in seconds: 0.981486\n",
      "Date and time at startup: Sat Feb 19 23:20:39 2022\n",
      "\n",
      "SpECTRE Build Information:\n",
      "Version:                      2022.02.17\n",
      "Compiled on host:             nlf-mbp.local\n",
      "Compiled in directory:        /Users/nlf/Work/spectre/build-Default-Debug\n",
      "Source directory is:          /Users/nlf/Projects/spectre/develop\n",
      "Compiled on git branch:       xcts_input_files\n",
      "Compiled on git revision:     383ba536eb2\n",
      "Linked on:                    Thu Jan 27 18:45:20 2022\n",
      "\n",
      "The following options differ from their suggested values:\n",
      "\n",
      "Option parsing completed.\n",
      "\n",
      "Parallel components:\n",
      "  DgElementArray (Array) has 3 DataBox variants with [36, 238, 234] items.\n",
      "  ResidualMonitor (Singleton) has 2 DataBox variants with [29, 33] items.\n",
      "  ResidualMonitor (Singleton) has 2 DataBox variants with [29, 31] items.\n",
      "  Observer (Group) has 2 DataBox variants with [29, 45] items.\n",
      "  ObserverWriter (Nodegroup) has 2 DataBox variants with [29, 50] items.\n",
      "\n",
      "Multigrid level 0 has 232 elements in 54 blocks distributed on 1 procs.\n",
      "Multigrid level 1 has 54 elements in 54 blocks distributed on 1 procs.\n",
      "NewtonRaphson initialized with residual: 1.058476e+01\n",
      "Gmres initialized with residual: 1.058476e+01\n",
      "Gmres(1) iteration complete. Remaining residual: 2.003738e-01\n",
      "^C\n"
     ]
    }
   ],
   "source": [
    "NUM_CORES = 1\n",
    "!{os.path.join(SPECTRE_BUILD_DIR, 'bin/SolveXcts')} --input-file Bbh.yaml +p {NUM_CORES}"
   ]
  },
  {
   "cell_type": "markdown",
   "metadata": {},
   "source": [
    "## Plot output data\n",
    "\n",
    "The executable has created H5 output files with volume data and diagnostics:"
   ]
  },
  {
   "cell_type": "code",
   "execution_count": null,
   "metadata": {},
   "outputs": [],
   "source": [
    "!ls *.h5"
   ]
  },
  {
   "cell_type": "markdown",
   "metadata": {},
   "source": [
    "The volume data in the `BbhVolume*.h5` files (one per node) can be imported into\n",
    "evolution executables. It contains the following data:"
   ]
  },
  {
   "cell_type": "code",
   "execution_count": null,
   "metadata": {},
   "outputs": [],
   "source": [
    "!h5ls -r BbhVolume*.h5"
   ]
  },
  {
   "cell_type": "markdown",
   "metadata": {},
   "source": [
    "We plot the diagnostics in `BbhReductions.h5` to see what happened during the\n",
    "elliptic solve:"
   ]
  },
  {
   "cell_type": "code",
   "execution_count": null,
   "metadata": {},
   "outputs": [],
   "source": [
    "def split_iteration_sequence(data):\n",
    "    iterations = []\n",
    "    current_iteration = pd.DataFrame(columns=data.columns)\n",
    "    for i in range(len(data)):\n",
    "        if len(current_iteration\n",
    "               ) > 0 and data.index[i] <= current_iteration.index[-1]:\n",
    "            iterations.append(current_iteration)\n",
    "            current_iteration = pd.DataFrame(columns=data.columns)\n",
    "        current_iteration = current_iteration.append(data.iloc[i])\n",
    "    iterations.append(current_iteration)\n",
    "    return iterations\n",
    "\n",
    "\n",
    "def load_dataset(subfile):\n",
    "    legend = subfile.attrs['Legend']\n",
    "    return pd.DataFrame(data=subfile, columns=legend).set_index(legend[0])"
   ]
  },
  {
   "cell_type": "code",
   "execution_count": null,
   "metadata": {},
   "outputs": [],
   "source": [
    "with h5py.File('BbhReductions.h5', 'r') as h5_file:\n",
    "    nonlinear_residuals = load_dataset(h5_file['NewtonRaphsonResiduals.dat'])\n",
    "    all_linear_residuals = split_iteration_sequence(\n",
    "        load_dataset(h5_file['GmresResiduals.dat']))"
   ]
  },
  {
   "cell_type": "code",
   "execution_count": null,
   "metadata": {},
   "outputs": [
    {
     "data": {
      "image/png": "[encoded data removed]",
      "text/plain": [
       "<Figure size 640x480 with 1 Axes>"
      ]
     },
     "metadata": {},
     "output_type": "display_data"
    }
   ],
   "source": [
    "# Plot linear residuals\n",
    "n = 0\n",
    "for linear_residuals in all_linear_residuals:\n",
    "    plt.semilogy(\n",
    "        linear_residuals.index + n,\n",
    "        linear_residuals[\"Residual\"] /\n",
    "        all_linear_residuals[0][\"Residual\"].iloc[0],\n",
    "        color=\"black\",\n",
    "        # label=lin_label,\n",
    "        marker='.',\n",
    "        markersize=2.5,\n",
    "        zorder=30,\n",
    "    )\n",
    "    n += len(linear_residuals) - 1\n",
    "    lin_label = None\n",
    "\n",
    "# Plot nonlinear residuals\n",
    "nonlin_xticks = [0] + list(\n",
    "    np.cumsum([len(l) - 1 for l in all_linear_residuals]))\n",
    "plt.semilogy(\n",
    "    nonlin_xticks,\n",
    "    nonlinear_residuals[\"Residual\"] / nonlinear_residuals[\"Residual\"].iloc[0],\n",
    "    color=\"black\",\n",
    "    ls=\"dotted\",\n",
    "    marker=\".\",\n",
    "    label=\n",
    "    r\"Nonlinear residual $\\|\\underline{b} - \\mathcal{A}(\\underline{u})\\|_2$\",\n",
    "    zorder=40,\n",
    ")\n",
    "plt.xticks(nonlin_xticks)\n",
    "xticks = range(len(\n",
    "    all_linear_residuals)) if nonlinear_residuals is None else nonlin_xticks"
   ]
  },
  {
   "cell_type": "markdown",
   "metadata": {},
   "source": [
    "The plot shows the convergence of the nonlinear solver (dotted line), along with\n",
    "the convergence of the linear solver that runs in each nonlinear iteration\n",
    "(solid line). A few things to note:\n",
    "\n",
    "- The residual converges down to almost machine precision, but that doesn't\n",
    "  reflect the discretization error of the solution. It only shows that we have\n",
    "  solved the discretized problem very accurately. To get an idea of the\n",
    "  discretization error we would have to look at quantities such as constraint\n",
    "  norms.\n",
    "- The Newton-Raphson nonlinear solver converges slowly at first, and then begins\n",
    "  to converge quadratically once we are closer to the solution and hence the\n",
    "  linearization is more accurate.\n",
    "- The linear solver needs only a few steps and converges exponentially, which is\n",
    "  a feature of our multigrid-Schwarz preconditioner.\n",
    "\n",
    "You can read more about the elliptic solver in this paper:\n",
    "\n",
    "- N. L. Vu _et al_., A scalable elliptic solver with task-based parallelism for\n",
    "  the SpECTRE numerical relativity code (2022),\n",
    "  [arXiv:2111.06767](https://arxiv.org/abs/2111.06767)"
   ]
  },
  {
   "cell_type": "code",
   "execution_count": null,
   "metadata": {},
   "outputs": [],
   "source": []
  }
 ],
 "metadata": {
  "interpreter": {
   "hash": "5c837ee96a6a314af6ca82ef816f2b1d9c1a2b96687b8bdeaa8036bfb18cb0dc"
  },
  "kernelspec": {
   "display_name": "Python 3.9.10 ('spectre')",
   "language": "python",
   "name": "python3"
  },
  "language_info": {
   "codemirror_mode": {
    "name": "ipython",
    "version": 3
   },
   "file_extension": ".py",
   "mimetype": "text/x-python",
   "name": "python",
   "nbconvert_exporter": "python",
   "pygments_lexer": "ipython3",
   "version": "3.9.10"
  },
  "orig_nbformat": 4
 },
 "nbformat": 4,
 "nbformat_minor": 2
}
